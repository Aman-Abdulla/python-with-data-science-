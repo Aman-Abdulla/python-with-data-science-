{
 "cells": [
  {
   "cell_type": "code",
   "execution_count": null,
   "metadata": {},
   "outputs": [],
   "source": [
    "import requests\n",
    "from PIL import Image\n",
    "from io import BytesIO\n",
    "def download_img(url):\n",
    "    response = requests.get(url)\n",
    "    img = Image.open(BytesIO(response.content))\n",
    "    return img\n",
    "im1 = download_img('https://www.sanjayjangam.com/wp-content/uploads/2021/10/good-morning-images.jpg')\n",
    "im1.save('image2.png')\n",
    "\n",
    "im2.size\n",
    "(1000, 800)\n",
    "im1.show()\n",
    "im1.info\n"
   ]
  },
  {
   "cell_type": "code",
   "execution_count": null,
   "metadata": {},
   "outputs": [],
   "source": [
    "im2.info\n",
    "\n",
    "# resize image\n",
    "im2.resize((100,100))"
   ]
  },
  {
   "cell_type": "code",
   "execution_count": null,
   "metadata": {},
   "outputs": [],
   "source": [
    "im1.resize(( 3* im1.width, 3* im1.height))"
   ]
  },
  {
   "cell_type": "code",
   "execution_count": null,
   "metadata": {},
   "outputs": [],
   "source": [
    "im2.resize(( im2.width//3, im2.height//3)).save('image3.png')\n",
    "from PIL import ImageDraw, ImageFont\n",
    "drawIm2 = ImageDraw.Draw(im2)\n",
    "drawIm2.text((20,20), 'Capsicum', fill='red', font=ImageFont.truetype('arial.ttf', 100))\n",
    "im2"
   ]
  },
  {
   "cell_type": "code",
   "execution_count": null,
   "metadata": {},
   "outputs": [],
   "source": [
    "im2.show()"
   ]
  }
 ],
 "metadata": {
  "kernelspec": {
   "display_name": "Python 3.9.12 ('base')",
   "language": "python",
   "name": "python3"
  },
  "language_info": {
   "name": "python",
   "version": "3.9.12"
  },
  "orig_nbformat": 4,
  "vscode": {
   "interpreter": {
    "hash": "815823401fba5becea2a99552adb291b9654057dc54f7c7ed31cd6422353b6c4"
   }
  }
 },
 "nbformat": 4,
 "nbformat_minor": 2
}
