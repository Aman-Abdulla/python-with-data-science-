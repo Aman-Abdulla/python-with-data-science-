{
 "cells": [
  {
   "cell_type": "code",
   "execution_count": null,
   "metadata": {},
   "outputs": [],
   "source": []
  }
 ],
 "metadata": {
  "kernelspec": {
   "display_name": "Python 3.10.4 ('latest')",
   "language": "python",
   "name": "python3"
  },
  "language_info": {
   "name": "python",
   "version": "3.10.4"
  },
  "orig_nbformat": 4,
  "vscode": {
   "interpreter": {
    "hash": "2e12bdd5ed80baafd2b8d71273223723187ce68dac21043bef0d2d4f0480fa31"
   }
  }
 },
 "nbformat": 4,
 "nbformat_minor": 2
}
